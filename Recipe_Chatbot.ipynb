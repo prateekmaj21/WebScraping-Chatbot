{
 "cells": [
  {
   "cell_type": "code",
   "execution_count": 1,
   "id": "faa3bc28-971c-4b3e-a4a4-3164a9690c1e",
   "metadata": {},
   "outputs": [],
   "source": [
    "import nltk\n",
    "import numpy as np\n",
    "import random\n",
    "import string\n",
    "import bs4 as bs\n",
    "import urllib.request\n",
    "from bs4 import BeautifulSoup\n",
    "import re\n",
    "import pandas as pd\n",
    "from sklearn.feature_extraction.text import TfidfVectorizer\n",
    "from sklearn.metrics.pairwise import cosine_similarity\n",
    "import json\n",
    "import requests\n",
    "from textblob import TextBlob\n",
    "from fuzzywuzzy import fuzz\n",
    "from urllib.request import urlopen"
   ]
  },
  {
   "cell_type": "code",
   "execution_count": 2,
   "id": "8603a790-062f-43e6-abcd-0e7a6ea1107f",
   "metadata": {},
   "outputs": [
    {
     "name": "stdout",
     "output_type": "stream",
     "text": [
      "Hi, welcome to Cooking Bot! Enter your recipe link!\n"
     ]
    },
    {
     "name": "stdin",
     "output_type": "stream",
     "text": [
      " https://www.allrecipes.com/chicken-ricotta-meatballs-recipe-8683251\n"
     ]
    }
   ],
   "source": [
    "print(\"Hi, welcome to Cooking Bot! Enter your recipe link!\")\n",
    "link=input()\n",
    "#https://www.allrecipes.com/chicken-ricotta-meatballs-recipe-8683251"
   ]
  },
  {
   "cell_type": "code",
   "execution_count": 3,
   "id": "516ea9dc-9ef7-46a6-bb43-1f9d5992935f",
   "metadata": {},
   "outputs": [],
   "source": [
    "get_link = urllib.request.urlopen(link)\n",
    "get_link = get_link.read()\n",
    "\n",
    "data = bs.BeautifulSoup(get_link, 'lxml')\n",
    "\n",
    "data_paragraphs = data.find_all('p')\n",
    "\n",
    "data_text = ''\n",
    "for para in data_paragraphs:\n",
    "    data_text +=  para.text \n",
    "\n",
    "data_text = data_text.lower()"
   ]
  },
  {
   "cell_type": "code",
   "execution_count": 4,
   "id": "7440406d-81a1-43f2-97ab-bc7c349dad5a",
   "metadata": {},
   "outputs": [],
   "source": [
    "json_data = {\n",
    "    'title': data.h1.text,\n",
    "    'description': data.p.text,\n",
    "    'items': [li.text for li in data.find_all('li')]\n",
    "}\n"
   ]
  },
  {
   "cell_type": "code",
   "execution_count": 5,
   "id": "06c9895d-87b7-44f0-915c-1359298de291",
   "metadata": {},
   "outputs": [
    {
     "data": {
      "text/plain": [
       "'Chicken Ricotta Meatballs'"
      ]
     },
     "execution_count": 5,
     "metadata": {},
     "output_type": "execute_result"
    }
   ],
   "source": [
    "html = urlopen('https://www.allrecipes.com/chicken-ricotta-meatballs-recipe-8683251')\n",
    "bsh = BeautifulSoup(html.read(), 'html.parser')\n",
    "head=str(bsh.h1)\n",
    "match = re.search(r'>([^<]+)<', head)\n",
    "extracted_text= match.group(1).strip()\n",
    "extracted_text"
   ]
  },
  {
   "cell_type": "code",
   "execution_count": 6,
   "id": "63084945-759c-41aa-96a5-fbf3327949b7",
   "metadata": {},
   "outputs": [
    {
     "name": "stdout",
     "output_type": "stream",
     "text": [
      "Bot: Alright. So let's start working with Chicken Ricotta Meatballs. Lets proceed!\n"
     ]
    }
   ],
   "source": [
    "print(\"Bot: Alright. So let's start working with \"+ extracted_text+  \". Lets proceed!\")\n"
   ]
  },
  {
   "cell_type": "code",
   "execution_count": 7,
   "id": "cedfbb91-a832-439a-976e-130a70ad0128",
   "metadata": {},
   "outputs": [],
   "source": [
    "# Extract the 'items' list\n",
    "items_list = json_data['items']"
   ]
  },
  {
   "cell_type": "code",
   "execution_count": 8,
   "id": "214121bf-cfd1-4637-9b4e-49dd5466aae3",
   "metadata": {},
   "outputs": [
    {
     "data": {
      "text/plain": [
       "['\\n \\n\\n\\n\\nLog In\\n\\n ',\n",
       " '\\n\\n\\n\\n\\nMy Account\\n\\n\\n\\n\\n\\n\\n\\n Log Out\\n \\n\\n My Profile\\n \\n\\n Saved Recipes & Collections\\n \\n\\n Add a Recipe\\n \\n\\n Help\\n \\n\\n\\n',\n",
       " '\\n Log Out\\n ',\n",
       " '\\n My Profile\\n ',\n",
       " '\\n Saved Recipes & Collections\\n ',\n",
       " '\\n Add a Recipe\\n ',\n",
       " '\\n Help\\n ',\n",
       " '\\n\\nMagazine\\n\\n\\n\\n\\n\\n\\n\\n Subscribe\\n \\n\\n Manage Your Subscription\\n \\n\\n Give a Gift Subscription\\n \\n\\n Get Help\\n \\n\\n\\n',\n",
       " '\\n Subscribe\\n ']"
      ]
     },
     "execution_count": 8,
     "metadata": {},
     "output_type": "execute_result"
    }
   ],
   "source": [
    "items_list[1:10]"
   ]
  },
  {
   "cell_type": "code",
   "execution_count": 9,
   "id": "78a82461-65a1-4d28-a471-0f6fa7036c38",
   "metadata": {},
   "outputs": [],
   "source": [
    "def clean_and_filter_strings(string_list):\n",
    "    cleaned_list = []\n",
    "    for text in string_list:\n",
    "        # Remove newline characters and extra spaces\n",
    "        cleaned_text = ' '.join(text.split())\n",
    "        # Filter out single-word strings\n",
    "        if len(cleaned_text.split()) > 0:\n",
    "            cleaned_list.append(cleaned_text.lower())\n",
    "    return cleaned_list"
   ]
  },
  {
   "cell_type": "code",
   "execution_count": 10,
   "id": "9c686c1d-9429-441f-9473-3a26409ee260",
   "metadata": {},
   "outputs": [],
   "source": [
    "# Clean and filter the strings\n",
    "items_list = clean_and_filter_strings(items_list)"
   ]
  },
  {
   "cell_type": "code",
   "execution_count": 11,
   "id": "443cdd4d-c5ce-4754-af10-92a8871e564c",
   "metadata": {},
   "outputs": [],
   "source": [
    "def recipe_extraction(string_list):\n",
    "    result = []\n",
    "    \n",
    "    # Iterate from the end of the list\n",
    "    for text in reversed(string_list):\n",
    "        \n",
    "        \n",
    "        \n",
    "        # Check if the length is more than 40\n",
    "        if len(text) > 40:\n",
    "            result.append(text)\n",
    "            \n",
    "        elif result:\n",
    "            # Stop appending once we hit a string of length <= 40\n",
    "            break\n",
    "    \n",
    "    # Reverse the final result list\n",
    "    result.reverse()\n",
    "    return result"
   ]
  },
  {
   "cell_type": "code",
   "execution_count": 12,
   "id": "5777bbfa-4d42-4676-9fc4-bc417ad49cbd",
   "metadata": {},
   "outputs": [],
   "source": [
    "items_list = recipe_extraction(items_list)"
   ]
  },
  {
   "cell_type": "code",
   "execution_count": 13,
   "id": "a115766d-2a72-444a-b25f-a79a92ad0887",
   "metadata": {},
   "outputs": [],
   "source": [
    "def add_step_numbers(string_list):\n",
    "    # Create a new list with \"step N: \" added to each string\n",
    "    stepped_list = [f'cooking step {i+1}: {text}' for i, text in enumerate(string_list)]\n",
    "    return stepped_list"
   ]
  },
  {
   "cell_type": "code",
   "execution_count": 14,
   "id": "02f29b78-7dbc-425f-ad93-cca47bc09096",
   "metadata": {},
   "outputs": [],
   "source": [
    "# Add step numbers\n",
    "items_list = add_step_numbers(items_list)"
   ]
  },
  {
   "cell_type": "code",
   "execution_count": 15,
   "id": "0ad634d2-1bf1-4d4d-9ad0-2ddeacf9997f",
   "metadata": {},
   "outputs": [
    {
     "data": {
      "text/plain": [
       "['cooking step 1: preheat the oven to 350 degrees f (175 degrees c). line a baking sheet with foil or parchment paper.',\n",
       " 'cooking step 2: heat olive oil in a skillet. add onion and garlic, season with 1/4 teaspoon salt and 1/4 teaspoon pepper, and cook until soft and translucent, 3 to 5 minutes. let cool to room temperature.',\n",
       " 'cooking step 3: combine panko and ricotta in a bowl and mix well. add egg and season with remaining salt, pepper and italian seasoning; mix to combine. add ground chicken, and cooked onion and garlic mixture; mix gently to combine.',\n",
       " 'cooking step 4: shape into about 24 meatballs and place on the prepared baking sheet.',\n",
       " 'cooking step 5: bake meatballs in the preheated oven until no longer pink in the center and the juices run clear. an instant-read thermometer inserted into the center should read at least 165 degrees f (74 degrees c), about 20 minutes; remove to cool.',\n",
       " 'cooking step 6: to make the sauce, preheat the oven to 425 degrees f (220 degrees c).',\n",
       " 'cooking step 7: coat the tomatoes with olive oil, then place cut side down in a single layer on a rimmed baking sheet. add onion and garlic cloves to the baking sheet and sprinkle everything with salt.',\n",
       " 'cooking step 8: roast in the preheated oven until tomato skins begin to shrivel and tomatoes begin to release their juice, about 25 minutes.',\n",
       " 'cooking step 9: remove and let cool slightly. carefully discard the skins.',\n",
       " 'cooking step 10: place tomatoes, onion, and garlic in a blender and blend to your preferred consistency. stir in italian seasoning and serve with chicken meatballs. garnish with basil and shaved parmesan. cook’s note if you want a thicker sauce, cook the processed sauce down in a saucepan to the desired thickness. this sauce will keep in the refrigerator for up to 3 days or in the freezer for up to a year. makes about 6 cups.']"
      ]
     },
     "execution_count": 15,
     "metadata": {},
     "output_type": "execute_result"
    }
   ],
   "source": [
    "items_list"
   ]
  },
  {
   "cell_type": "code",
   "execution_count": 16,
   "id": "d1e063c9-2a8e-4c8d-9050-e6d373af07e2",
   "metadata": {},
   "outputs": [
    {
     "data": {
      "text/plain": [
       "'hese ricotta chicken meatballs are both budget friendly and a lighter alternative to the traditional beef meatball, while still being flavorful and satisfying. the roasted tomato sauce is a delicious accompaniment.meatballs2 teaspoons oil1/2 white onion, finely diced6 cloves garlic, minced1/2 teaspoon freshly ground black pepper, divided3/4 teaspoon salt, divided1/2 cup panko1/4 cup ricotta cheese1 large egg1/2 teaspoon italian seasoning1 pound ground chickensauce15 roma tomatoes, cut in half l'"
      ]
     },
     "execution_count": 16,
     "metadata": {},
     "output_type": "execute_result"
    }
   ],
   "source": [
    "data_text[1:500]"
   ]
  },
  {
   "cell_type": "code",
   "execution_count": 17,
   "id": "e97a8362-e3df-4c7e-951d-6b0ed8ce0d17",
   "metadata": {},
   "outputs": [],
   "source": [
    "text_list=[]\n",
    "for para in data_paragraphs:\n",
    "    text_list.append(para.text)"
   ]
  },
  {
   "cell_type": "code",
   "execution_count": 18,
   "id": "a6725e4d-3371-4bc0-882c-7b3fbb897258",
   "metadata": {},
   "outputs": [],
   "source": [
    "#text_list"
   ]
  },
  {
   "cell_type": "code",
   "execution_count": 19,
   "id": "e2691928-e4ee-48ff-a0c4-16401fe488ef",
   "metadata": {},
   "outputs": [],
   "source": [
    "ingredients='recipe ingredients are: '\n",
    "ingredients_list=[]\n",
    "for i in text_list:\n",
    "    if len(i)<40:\n",
    "        ingredients=ingredients+' '+i\n",
    "        ingredients_list.append(i.lower())\n",
    "        \n",
    "ingredients=ingredients+'.'"
   ]
  },
  {
   "cell_type": "code",
   "execution_count": 20,
   "id": "26eaae63-677d-4d65-83af-60738c852144",
   "metadata": {},
   "outputs": [
    {
     "data": {
      "text/plain": [
       "'recipe ingredients are:  Meatballs 2 teaspoons oil 1/2 white onion, finely diced 6 cloves garlic, minced 3/4 teaspoon salt, divided 1/2 cup panko 1/4 cup ricotta cheese 1 large egg 1/2 teaspoon Italian seasoning 1 pound ground chicken Sauce 1 onion, quartered 2 tablespoons olive oil 8 cloves garlic, peeled 1/2 teaspoon salt, or to taste shaved Parmesan, for garnish TheDailyGourmet.'"
      ]
     },
     "execution_count": 20,
     "metadata": {},
     "output_type": "execute_result"
    }
   ],
   "source": [
    "ingredients"
   ]
  },
  {
   "cell_type": "code",
   "execution_count": 21,
   "id": "4b273d29-8cb9-40b9-84fb-d090800bb217",
   "metadata": {},
   "outputs": [],
   "source": [
    "#data_text= data_text+' . '+ingredients_list"
   ]
  },
  {
   "cell_type": "code",
   "execution_count": 22,
   "id": "a9b34191-ed9f-482d-bdfc-d9d433ea8a54",
   "metadata": {},
   "outputs": [
    {
     "data": {
      "text/plain": [
       "['meatballs',\n",
       " '2 teaspoons oil',\n",
       " '1/2 white onion, finely diced',\n",
       " '6 cloves garlic, minced',\n",
       " '3/4 teaspoon salt, divided',\n",
       " '1/2 cup panko',\n",
       " '1/4 cup ricotta cheese',\n",
       " '1 large egg',\n",
       " '1/2 teaspoon italian seasoning',\n",
       " '1 pound ground chicken',\n",
       " 'sauce',\n",
       " '1 onion, quartered',\n",
       " '2 tablespoons olive oil',\n",
       " '8 cloves garlic, peeled',\n",
       " '1/2 teaspoon salt, or to taste',\n",
       " 'shaved parmesan, for garnish',\n",
       " 'thedailygourmet']"
      ]
     },
     "execution_count": 22,
     "metadata": {},
     "output_type": "execute_result"
    }
   ],
   "source": [
    "ingredients_list"
   ]
  },
  {
   "cell_type": "code",
   "execution_count": 23,
   "id": "31b841c3-c0c4-4950-a2d1-6cf1d9616dc1",
   "metadata": {},
   "outputs": [],
   "source": [
    "# Initialize the new list\n",
    "steps = []\n",
    "filtered_list = [text for text in text_list if text.endswith('\\n')]\n"
   ]
  },
  {
   "cell_type": "code",
   "execution_count": 24,
   "id": "bb621d98-7c69-4697-a180-3dc1f6da27b0",
   "metadata": {},
   "outputs": [],
   "source": [
    "filtered_list = [text for text in filtered_list if len(text) > 50]"
   ]
  },
  {
   "cell_type": "code",
   "execution_count": 25,
   "id": "15879e3f-a39b-49fc-8e5b-f11c336cc661",
   "metadata": {},
   "outputs": [],
   "source": [
    "# Iterate over the original list with enumeration to add step numbers\n",
    "for i, text in enumerate(filtered_list, start=1):\n",
    "    step_text = f\"Recipe Step {i}: {text.strip()}\"\n",
    "    steps.append(step_text.lower())"
   ]
  },
  {
   "cell_type": "code",
   "execution_count": 26,
   "id": "467de32a-093d-4fcb-b118-a0ae6a87d7c0",
   "metadata": {},
   "outputs": [],
   "source": [
    "# Tokenize sentences\n",
    "sen = nltk.sent_tokenize(data_text)\n",
    "\n",
    "# Tokenize words\n",
    "words = nltk.word_tokenize(data_text)"
   ]
  },
  {
   "cell_type": "code",
   "execution_count": 27,
   "id": "24759913-4a74-49ff-9a52-938e1a463450",
   "metadata": {},
   "outputs": [],
   "source": [
    "sen=sen+items_list+ingredients_list"
   ]
  },
  {
   "cell_type": "code",
   "execution_count": 28,
   "id": "0ee2c5dd-d23c-4564-86f7-f7a330e301ba",
   "metadata": {},
   "outputs": [],
   "source": [
    "items_list_text=''.join(items_list)"
   ]
  },
  {
   "cell_type": "code",
   "execution_count": 29,
   "id": "9bd09351-9dc3-4700-b4ca-5d9a3ac4f594",
   "metadata": {},
   "outputs": [],
   "source": [
    "def parse_steps(text):\n",
    "    step_pattern = re.compile(r'(step\\s*\\d+:)(.*?)(?=step\\s*\\d+:|$)', re.IGNORECASE | re.DOTALL)\n",
    "    steps = []\n",
    "    for match in step_pattern.finditer(text):\n",
    "        step_desc = match.group(2).strip()\n",
    "        steps.append(step_desc)\n",
    "    return steps"
   ]
  },
  {
   "cell_type": "code",
   "execution_count": 30,
   "id": "5c6c3ac2-519b-425f-a853-377c720179c3",
   "metadata": {},
   "outputs": [],
   "source": [
    "steps = parse_steps(items_list_text)"
   ]
  },
  {
   "cell_type": "code",
   "execution_count": 31,
   "id": "27294431-fcc3-41a6-adfb-7af97746cec9",
   "metadata": {},
   "outputs": [],
   "source": [
    "class RecipeNavigator:\n",
    "    def __init__(self, steps):\n",
    "        self.steps = steps\n",
    "        self.current_step = 0\n",
    "\n",
    "    def next_step(self):\n",
    "        if self.current_step < len(self.steps) - 1:\n",
    "            self.current_step += 1\n",
    "        self.show_current_step()\n",
    "\n",
    "    def previous_step(self):\n",
    "        if self.current_step > 0:\n",
    "            self.current_step -= 1\n",
    "        self.show_current_step()\n",
    "\n",
    "    def show_current_step(self):\n",
    "        step = self.steps[self.current_step]\n",
    "        print(f\"Step {self.current_step + 1}: {step}\")\n",
    "\n",
    "    def go_to_step(self, step_number):\n",
    "        if 0 <= step_number < len(self.steps):\n",
    "            self.current_step = step_number\n",
    "        self.show_current_step()"
   ]
  },
  {
   "cell_type": "code",
   "execution_count": 32,
   "id": "f4311d0c-2fcd-473e-ab90-a1358f5eea9d",
   "metadata": {},
   "outputs": [],
   "source": [
    "navigator = RecipeNavigator(steps)"
   ]
  },
  {
   "cell_type": "code",
   "execution_count": 33,
   "id": "d5c7284c-1e6e-4802-b632-aa45bbfd5b1b",
   "metadata": {},
   "outputs": [],
   "source": [
    "#navigator.show_current_step()"
   ]
  },
  {
   "cell_type": "code",
   "execution_count": 34,
   "id": "24d773a9-e21e-446c-9d56-0b4d13b6fd65",
   "metadata": {},
   "outputs": [],
   "source": [
    "#navigator.next_step()"
   ]
  },
  {
   "cell_type": "code",
   "execution_count": 35,
   "id": "747510bb-f96e-4e18-86e5-55f339380c7d",
   "metadata": {},
   "outputs": [],
   "source": [
    "#navigator.previous_step()"
   ]
  },
  {
   "cell_type": "code",
   "execution_count": 36,
   "id": "c0fb7f95-e5b0-48a8-8197-1632f277fe02",
   "metadata": {},
   "outputs": [],
   "source": [
    "#navigator.go_to_step(2)"
   ]
  },
  {
   "cell_type": "code",
   "execution_count": 37,
   "id": "a8e9eac8-eb68-43a6-ac50-37a4ea4d6f1b",
   "metadata": {},
   "outputs": [],
   "source": [
    "wnlem = nltk.stem.WordNetLemmatizer()"
   ]
  },
  {
   "cell_type": "code",
   "execution_count": 38,
   "id": "6892297e-f170-4dc7-ad9a-7d5ac0f96359",
   "metadata": {},
   "outputs": [],
   "source": [
    "def perform_lemmatization(tokens):\n",
    "    return [wnlem.lemmatize(token) for token in tokens]\n"
   ]
  },
  {
   "cell_type": "code",
   "execution_count": 39,
   "id": "c0b11a8e-8683-4f8a-93fd-de3a9d0f325e",
   "metadata": {},
   "outputs": [],
   "source": [
    "pr = dict ((ord(punctuation), None) for punctuation in string.punctuation) "
   ]
  },
  {
   "cell_type": "code",
   "execution_count": 40,
   "id": "007b4d83-3191-4385-b0f3-8e5fcbbf23ef",
   "metadata": {},
   "outputs": [],
   "source": [
    "#tokenizer\n",
    "\n",
    "def get_processed_text(document):\n",
    "    return perform_lemmatization(nltk.word_tokenize(document.lower().translate(pr)))\n",
    "\n"
   ]
  },
  {
   "cell_type": "code",
   "execution_count": 41,
   "id": "bc04f8c1-3e68-40bb-99ee-7bc97cda7621",
   "metadata": {},
   "outputs": [],
   "source": [
    "\n",
    "greeting_inputs = (\"hey\", \"good morning\", \"good evening\", \"morning\", \"evening\", \"hi cooking bot\", \"whats up\")\n",
    "greeting_responses = [\"hey\", \"hey are you?\", \"\", \"hello, how you doing\", \"hello\", \"Welcome, I am good and you\"]\n",
    "\n",
    "def generate_greeting_response(greeting):\n",
    "    for token in greeting.split():\n",
    "        if token.lower() in greeting_inputs:\n",
    "            return random.choice(greeting_responses)"
   ]
  },
  {
   "cell_type": "code",
   "execution_count": 42,
   "id": "d17a0fb8-b78a-468f-a499-126d9f4eb470",
   "metadata": {},
   "outputs": [],
   "source": [
    "def generate_response(user_input):\n",
    "    bot_response = ''\n",
    "    sen.append(user_input)\n",
    "    word_vectorizer = TfidfVectorizer(tokenizer=get_processed_text, stop_words='english')\n",
    "    word_vectors = word_vectorizer.fit_transform(sen)\n",
    "    similar_vector_values=cosine_similarity(word_vectors[-1],word_vectors)\n",
    "    similar_sentence_number = similar_vector_values.argsort()[0][-2]\n",
    "    matched_vector = similar_vector_values.flatten()\n",
    "    matched_vector.sort()\n",
    "    vector_matched = matched_vector[-2]\n",
    "    \n",
    "    if vector_matched == 0:\n",
    "        bot_response = bot_response + \"I am sorry I don't understand, check here: \"\n",
    "        query = user_input.replace(\" \", \"+\"); url = f\"https://www.google.com/search?q={query}\"; headers = {\"User-Agent\": \"Mozilla/5.0\"}; response = requests.get(url, headers=headers); soup = BeautifulSoup(response.text, 'html.parser'); links = [a['href'].split('/url?q=')[1].split('&')[0] for a in soup.find_all('a', href=True) if a['href'].startswith('/url?q=')][:3];\n",
    "        bot_response=bot_response+links[2]\n",
    "\n",
    "        return bot_response\n",
    "    else:\n",
    "        bot_response = bot_response + sen[similar_sentence_number]\n",
    "        return bot_response\n"
   ]
  },
  {
   "cell_type": "code",
   "execution_count": 43,
   "id": "fef7c8c9-9e52-49db-9de3-c1b4c648affb",
   "metadata": {},
   "outputs": [
    {
     "name": "stdout",
     "output_type": "stream",
     "text": [
      "Hello I am Cooking Bot. Shoot your question\n"
     ]
    },
    {
     "name": "stdin",
     "output_type": "stream",
     "text": [
      " hi\n"
     ]
    },
    {
     "name": "stdout",
     "output_type": "stream",
     "text": [
      "Bot: I am sorry I don't understand, check here: https://www.merriam-webster.com/dictionary/hi\n"
     ]
    },
    {
     "name": "stdin",
     "output_type": "stream",
     "text": [
      " give cooking steps?\n"
     ]
    },
    {
     "name": "stdout",
     "output_type": "stream",
     "text": [
      "Bot: \n",
      "cooking step 1: preheat the oven to 350 degrees f (175 degrees c). line a baking sheet with foil or parchment paper.\n",
      "cooking step 2: heat olive oil in a skillet. add onion and garlic, season with 1/4 teaspoon salt and 1/4 teaspoon pepper, and cook until soft and translucent, 3 to 5 minutes. let cool to room temperature.\n",
      "cooking step 3: combine panko and ricotta in a bowl and mix well. add egg and season with remaining salt, pepper and italian seasoning; mix to combine. add ground chicken, and cooked onion and garlic mixture; mix gently to combine.\n",
      "cooking step 4: shape into about 24 meatballs and place on the prepared baking sheet.\n",
      "cooking step 5: bake meatballs in the preheated oven until no longer pink in the center and the juices run clear. an instant-read thermometer inserted into the center should read at least 165 degrees f (74 degrees c), about 20 minutes; remove to cool.\n",
      "cooking step 6: to make the sauce, preheat the oven to 425 degrees f (220 degrees c).\n",
      "cooking step 7: coat the tomatoes with olive oil, then place cut side down in a single layer on a rimmed baking sheet. add onion and garlic cloves to the baking sheet and sprinkle everything with salt.\n",
      "cooking step 8: roast in the preheated oven until tomato skins begin to shrivel and tomatoes begin to release their juice, about 25 minutes.\n",
      "cooking step 9: remove and let cool slightly. carefully discard the skins.\n",
      "cooking step 10: place tomatoes, onion, and garlic in a blender and blend to your preferred consistency. stir in italian seasoning and serve with chicken meatballs. garnish with basil and shaved parmesan. cook’s note if you want a thicker sauce, cook the processed sauce down in a saucepan to the desired thickness. this sauce will keep in the refrigerator for up to 3 days or in the freezer for up to a year. makes about 6 cups.\n"
     ]
    },
    {
     "name": "stdin",
     "output_type": "stream",
     "text": [
      " good morning\n"
     ]
    },
    {
     "name": "stdout",
     "output_type": "stream",
     "text": [
      "Bot: \n"
     ]
    },
    {
     "name": "stdin",
     "output_type": "stream",
     "text": [
      " hello\n"
     ]
    },
    {
     "name": "stdout",
     "output_type": "stream",
     "text": [
      "Bot: I am sorry I don't understand, check here: https://en.wikipedia.org/wiki/Hello_(Adele_song)\n"
     ]
    },
    {
     "name": "stdin",
     "output_type": "stream",
     "text": [
      " Take me to the current step\n"
     ]
    },
    {
     "name": "stdout",
     "output_type": "stream",
     "text": [
      "Bot: \n",
      "Step 1: preheat the oven to 350 degrees f (175 degrees c). line a baking sheet with foil or parchment paper.cooking\n"
     ]
    },
    {
     "name": "stdin",
     "output_type": "stream",
     "text": [
      " Take me to the next step?\n"
     ]
    },
    {
     "name": "stdout",
     "output_type": "stream",
     "text": [
      "Bot: \n",
      "Step 2: heat olive oil in a skillet. add onion and garlic, season with 1/4 teaspoon salt and 1/4 teaspoon pepper, and cook until soft and translucent, 3 to 5 minutes. let cool to room temperature.cooking\n"
     ]
    },
    {
     "name": "stdin",
     "output_type": "stream",
     "text": [
      " Take me to the next step?\n"
     ]
    },
    {
     "name": "stdout",
     "output_type": "stream",
     "text": [
      "Bot: \n",
      "Step 3: combine panko and ricotta in a bowl and mix well. add egg and season with remaining salt, pepper and italian seasoning; mix to combine. add ground chicken, and cooked onion and garlic mixture; mix gently to combine.cooking\n"
     ]
    },
    {
     "name": "stdin",
     "output_type": "stream",
     "text": [
      " Take me to the next step?\n"
     ]
    },
    {
     "name": "stdout",
     "output_type": "stream",
     "text": [
      "Bot: \n",
      "Step 4: shape into about 24 meatballs and place on the prepared baking sheet.cooking\n"
     ]
    },
    {
     "name": "stdin",
     "output_type": "stream",
     "text": [
      " Take me to the previous step?\n"
     ]
    },
    {
     "name": "stdout",
     "output_type": "stream",
     "text": [
      "Bot: \n",
      "Step 3: combine panko and ricotta in a bowl and mix well. add egg and season with remaining salt, pepper and italian seasoning; mix to combine. add ground chicken, and cooked onion and garlic mixture; mix gently to combine.cooking\n"
     ]
    },
    {
     "name": "stdin",
     "output_type": "stream",
     "text": [
      " what is step 5\n"
     ]
    },
    {
     "name": "stdout",
     "output_type": "stream",
     "text": [
      "Bot: \n",
      "Step 5: bake meatballs in the preheated oven until no longer pink in the center and the juices run clear. an instant-read thermometer inserted into the center should read at least 165 degrees f (74 degrees c), about 20 minutes; remove to cool.cooking\n"
     ]
    },
    {
     "name": "stdin",
     "output_type": "stream",
     "text": [
      " give all recipe information from website\n"
     ]
    },
    {
     "name": "stdout",
     "output_type": "stream",
     "text": [
      "Bot: \n",
      "preheat the oven to 350 degrees f (175 degrees c). line a baking sheet with foil or parchment paper.cooking\n",
      "heat olive oil in a skillet. add onion and garlic, season with 1/4 teaspoon salt and 1/4 teaspoon pepper, and cook until soft and translucent, 3 to 5 minutes. let cool to room temperature.cooking\n",
      "combine panko and ricotta in a bowl and mix well. add egg and season with remaining salt, pepper and italian seasoning; mix to combine. add ground chicken, and cooked onion and garlic mixture; mix gently to combine.cooking\n",
      "shape into about 24 meatballs and place on the prepared baking sheet.cooking\n",
      "bake meatballs in the preheated oven until no longer pink in the center and the juices run clear. an instant-read thermometer inserted into the center should read at least 165 degrees f (74 degrees c), about 20 minutes; remove to cool.cooking\n",
      "to make the sauce, preheat the oven to 425 degrees f (220 degrees c).cooking\n",
      "coat the tomatoes with olive oil, then place cut side down in a single layer on a rimmed baking sheet. add onion and garlic cloves to the baking sheet and sprinkle everything with salt.cooking\n",
      "roast in the preheated oven until tomato skins begin to shrivel and tomatoes begin to release their juice, about 25 minutes.cooking\n",
      "remove and let cool slightly. carefully discard the skins.cooking\n",
      "place tomatoes, onion, and garlic in a blender and blend to your preferred consistency. stir in italian seasoning and serve with chicken meatballs. garnish with basil and shaved parmesan. cook’s note if you want a thicker sauce, cook the processed sauce down in a saucepan to the desired thickness. this sauce will keep in the refrigerator for up to 3 days or in the freezer for up to a year. makes about 6 cups.\n"
     ]
    },
    {
     "name": "stdin",
     "output_type": "stream",
     "text": [
      " give all recipe ingredients\n"
     ]
    },
    {
     "name": "stdout",
     "output_type": "stream",
     "text": [
      "Bot: \n",
      "The ingredients are:\n",
      "meatballs\n",
      "2 teaspoons oil\n",
      "1/2 white onion, finely diced\n",
      "6 cloves garlic, minced\n",
      "3/4 teaspoon salt, divided\n",
      "1/2 cup panko\n",
      "1/4 cup ricotta cheese\n",
      "1 large egg\n",
      "1/2 teaspoon italian seasoning\n",
      "1 pound ground chicken\n",
      "sauce\n",
      "1 onion, quartered\n",
      "2 tablespoons olive oil\n",
      "8 cloves garlic, peeled\n",
      "1/2 teaspoon salt, or to taste\n",
      "shaved parmesan, for garnish\n",
      "thedailygourmet\n"
     ]
    },
    {
     "name": "stdin",
     "output_type": "stream",
     "text": [
      " how much onions to use?\n"
     ]
    },
    {
     "name": "stdout",
     "output_type": "stream",
     "text": [
      "Bot: 1 onion, quartered\n"
     ]
    },
    {
     "name": "stdin",
     "output_type": "stream",
     "text": [
      " what is oven temperature?\n"
     ]
    },
    {
     "name": "stdout",
     "output_type": "stream",
     "text": [
      "Bot: let cool to room temperature.\n"
     ]
    },
    {
     "name": "stdin",
     "output_type": "stream",
     "text": [
      " what is oven heat?\n"
     ]
    },
    {
     "name": "stdout",
     "output_type": "stream",
     "text": [
      "Bot: heat olive oil in a skillet.\n"
     ]
    },
    {
     "name": "stdin",
     "output_type": "stream",
     "text": [
      " what should be pan heat?\n"
     ]
    },
    {
     "name": "stdout",
     "output_type": "stream",
     "text": [
      "Bot: heat olive oil in a skillet.\n"
     ]
    },
    {
     "name": "stdin",
     "output_type": "stream",
     "text": [
      " bye\n"
     ]
    },
    {
     "name": "stdout",
     "output_type": "stream",
     "text": [
      "Cooking Bot says Goodbye\n"
     ]
    }
   ],
   "source": [
    "import warnings\n",
    "warnings.filterwarnings('ignore')\n",
    "\n",
    "continue_flag = True\n",
    "print(\"Hello I am Cooking Bot. Shoot your question\")\n",
    "\n",
    "while(continue_flag == True):\n",
    "    human = input()\n",
    "    human = human.lower()\n",
    "    \n",
    "    if human != 'bye':\n",
    "        if human == 'thanks' or human == 'thank you':\n",
    "            continue_flag = False\n",
    "            print(\"Most welcome from Cooking Bot\")\n",
    "        \n",
    "        elif (human == 'give cooking steps?' or (fuzz.ratio(human, 'give steps to cook the recipe?')>95) or (fuzz.ratio(human, 'how to cook?')>70) or (fuzz.ratio(human, 'what are the cooking steps?')>95)):\n",
    "            continue_flag = True\n",
    "            print(\"Bot: \")\n",
    "            for i in items_list:\n",
    "                print (i)\n",
    "\n",
    "        elif (human == 'Take me to the current step' or (fuzz.ratio(human, 'Take me to the current step?')>95) or (fuzz.ratio(human, 'what is the current step?')>70) ):\n",
    "            continue_flag = True\n",
    "            print(\"Bot: \")\n",
    "            navigator.show_current_step()\n",
    "\n",
    "        elif (human == 'Take me to the next step' or (fuzz.ratio(human, 'Take me to the next step?')>95) or (fuzz.ratio(human, 'what is the next step?')>70) ):\n",
    "            continue_flag = True\n",
    "            print(\"Bot: \")\n",
    "            navigator.next_step()\n",
    "\n",
    "        elif (human == 'Take me to the previous step' or (fuzz.ratio(human, 'Take me to the previous step?')>95) or (fuzz.ratio(human, 'what is the previous step?')>70) ):\n",
    "            continue_flag = True\n",
    "            print(\"Bot: \")\n",
    "            navigator.previous_step()\n",
    "\n",
    "        elif ((fuzz.ratio(human, 'Take me to step 1')>90) or (fuzz.ratio(human, 'what is step 1')>90) ):\n",
    "            continue_flag = True\n",
    "            print(\"Bot: \")\n",
    "            n=int(human[-1])\n",
    "            navigator.go_to_step(n-1)\n",
    "        \n",
    "        elif (fuzz.ratio(human, 'give all recipe information from website')>70) or (fuzz.ratio(human, 'give recipe content from website')>70):\n",
    "            continue_flag = True\n",
    "            print(\"Bot: \")\n",
    "            for step in steps:\n",
    "                print(step)\n",
    "            \n",
    "        elif (fuzz.ratio(human, 'give all recipe ingredients')>70) or (fuzz.ratio(human, 'what are the recipe ingredients')>70) or (fuzz.ratio(human, 'what is used to make this dish')>70):\n",
    "            continue_flag = True\n",
    "            print(\"Bot: \")\n",
    "            print(\"The ingredients are:\")\n",
    "            for a in ingredients_list:\n",
    "                print (a)\n",
    "\n",
    "        \n",
    "        else:\n",
    "            if generate_greeting_response(human) != None:\n",
    "                print(\"Bot: \" + generate_greeting_response(human))\n",
    "            else:\n",
    "                print(\"Bot: \", end=\"\")\n",
    "                print(generate_response(human))\n",
    "                sen.remove(human)\n",
    "    else:\n",
    "        continue_flag = False\n",
    "        print(\"Cooking Bot says Goodbye\")"
   ]
  }
 ],
 "metadata": {
  "kernelspec": {
   "display_name": "Python 3 (ipykernel)",
   "language": "python",
   "name": "python3"
  },
  "language_info": {
   "codemirror_mode": {
    "name": "ipython",
    "version": 3
   },
   "file_extension": ".py",
   "mimetype": "text/x-python",
   "name": "python",
   "nbconvert_exporter": "python",
   "pygments_lexer": "ipython3",
   "version": "3.11.7"
  }
 },
 "nbformat": 4,
 "nbformat_minor": 5
}
